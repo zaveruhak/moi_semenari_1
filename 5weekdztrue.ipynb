{
 "cells": [
  {
   "cell_type": "markdown",
   "id": "c62036bb-be85-4f79-8567-025ffa5c3219",
   "metadata": {},
   "source": [
    "# первое"
   ]
  },
  {
   "cell_type": "code",
   "execution_count": 3,
   "id": "a179316b-974c-4a2b-83b0-0448844c00a8",
   "metadata": {},
   "outputs": [
    {
     "name": "stdin",
     "output_type": "stream",
     "text": [
      " student_10221student_00246student_90789\n"
     ]
    },
    {
     "name": "stdout",
     "output_type": "stream",
     "text": [
      "907\n"
     ]
    }
   ],
   "source": [
    "s = input().split('student_')\n",
    "t = {i[:3]:i[3:] for i in s[1:]}\n",
    "m = max(t.values())\n",
    "for i in t:\n",
    "    if t.get(i) == m:\n",
    "        print(i)"
   ]
  },
  {
   "cell_type": "markdown",
   "id": "95cae1d2-acaa-4cef-811a-df5a3679b156",
   "metadata": {},
   "source": [
    "# второе"
   ]
  },
  {
   "cell_type": "code",
   "execution_count": 4,
   "id": "dfaf0530-c30f-4163-b02b-b54e0e545e69",
   "metadata": {},
   "outputs": [
    {
     "name": "stdin",
     "output_type": "stream",
     "text": [
      " 2 3\n"
     ]
    },
    {
     "name": "stdout",
     "output_type": "stream",
     "text": [
      "Длина окружности равна 12.57. Площадь круга составляет 139.63% от площади квадрата.\n"
     ]
    }
   ],
   "source": [
    "from numpy import pi\n",
    "\n",
    "\n",
    "r, a = map(float, input().split())\n",
    "area_square = a * a\n",
    "lenght = 2 * pi * r\n",
    "area_circle = pi * r * r\n",
    "print(f'Длина окружности равна {lenght:.2f}. Площадь круга составляет {area_circle / area_square:.2%} от площади квадрата.')"
   ]
  },
  {
   "cell_type": "markdown",
   "id": "29d0c908-85bf-464a-aea8-b6f2ec314fc9",
   "metadata": {},
   "source": [
    "# третье"
   ]
  },
  {
   "cell_type": "code",
   "execution_count": 5,
   "id": "a0df60ee-9bb5-40d5-93e2-0987a73ad6f6",
   "metadata": {},
   "outputs": [
    {
     "name": "stdin",
     "output_type": "stream",
     "text": [
      " abc xyzqw\n"
     ]
    },
    {
     "name": "stdout",
     "output_type": "stream",
     "text": [
      "bac-yxzqw\n"
     ]
    }
   ],
   "source": [
    "a, b = input().split()\n",
    "print(f'{a[1] + a[0] + a[2:]}-{b[1] + b[0] + b[2:]}')"
   ]
  },
  {
   "cell_type": "markdown",
   "id": "c0fd3093-906f-4524-ba22-f43bbb0c54a0",
   "metadata": {},
   "source": [
    "# четвёртое"
   ]
  },
  {
   "cell_type": "code",
   "execution_count": 6,
   "id": "76bb6615-f234-496b-8bc7-51377a6356c1",
   "metadata": {},
   "outputs": [
    {
     "name": "stdin",
     "output_type": "stream",
     "text": [
      " PYThon3\n"
     ]
    },
    {
     "name": "stdout",
     "output_type": "stream",
     "text": [
      "PYTHON3\n"
     ]
    }
   ],
   "source": [
    "s = input()\n",
    "\n",
    "if len(s) < 4:\n",
    "    print(s)\n",
    "else:\n",
    "    if [s[i].isupper() for i in (0, 1, 2, 3)].count(False) == 1:\n",
    "        print(s.upper())\n",
    "    else:\n",
    "        print(s)"
   ]
  },
  {
   "cell_type": "markdown",
   "id": "a1c1141d-4b6d-47b8-936c-ef8a1e7c28f1",
   "metadata": {},
   "source": [
    "# пятое"
   ]
  },
  {
   "cell_type": "code",
   "execution_count": 8,
   "id": "bf6cdd5f-5ee4-4748-a449-92473ce4e9a3",
   "metadata": {},
   "outputs": [
    {
     "name": "stdout",
     "output_type": "stream",
     "text": [
      "<i>Python</i>\n"
     ]
    }
   ],
   "source": [
    "def zak(teg, stroka):\n",
    "    if teg not in ('a', 'abbr', 'b', 'body', 'caption', 'cite', 'code', 'div', 'form', 'h1', 'h2', 'h3', 'h4', 'h5', 'h6', 'header', 'i', 's'):\n",
    "        print(\"Введён неверный тег\")\n",
    "    else:\n",
    "        print(f\"<{teg}>{stroka}</{teg}>\")\n",
    "\n",
    "zak('i', 'Python')"
   ]
  },
  {
   "cell_type": "markdown",
   "id": "a33cdd64-8f76-4ab1-8187-d85c8b77d6f4",
   "metadata": {},
   "source": [
    "# шестое"
   ]
  },
  {
   "cell_type": "code",
   "execution_count": 9,
   "id": "d6b3f870-a5db-40b5-b3b3-75be9c2c0467",
   "metadata": {},
   "outputs": [
    {
     "name": "stdin",
     "output_type": "stream",
     "text": [
      " ab\n"
     ]
    },
    {
     "name": "stdout",
     "output_type": "stream",
     "text": [
      "97\n"
     ]
    }
   ],
   "source": [
    "a = input()\n",
    "\n",
    "if len(a) <= 2:\n",
    "    print(ord(a[0]))  \n",
    "elif len(a) < 10 and len(a) % 2:\n",
    "    print(sum(map(ord, [a[0], a[len(a) // 2 - 1], a[-1]])))         \n",
    "elif len(a) < 10 and not len(a) % 2:\n",
    "    print(sum(map(ord, [a[0], a[len(a) // 2], a[-1]])))\n",
    "else:\n",
    "    print(ord(a[-1]))"
   ]
  }
 ],
 "metadata": {
  "kernelspec": {
   "display_name": "Python 3 (ipykernel)",
   "language": "python",
   "name": "python3"
  },
  "language_info": {
   "codemirror_mode": {
    "name": "ipython",
    "version": 3
   },
   "file_extension": ".py",
   "mimetype": "text/x-python",
   "name": "python",
   "nbconvert_exporter": "python",
   "pygments_lexer": "ipython3",
   "version": "3.13.5"
  }
 },
 "nbformat": 4,
 "nbformat_minor": 5
}
