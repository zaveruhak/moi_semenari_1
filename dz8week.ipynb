{
 "cells": [
  {
   "cell_type": "code",
   "execution_count": 1,
   "id": "69e7cd39-86d2-4e38-8f9f-436389f52f97",
   "metadata": {},
   "outputs": [
    {
     "name": "stdout",
     "output_type": "stream",
     "text": [
      "+ * - 2 3 - 12 10 / 4 2\n"
     ]
    }
   ],
   "source": [
    "def inf_to_pref(s):\n",
    "    a = s.split(' ')\n",
    "    k = []\n",
    "    ans = []\n",
    "    for i in range(len(a) - 1, -1, -1):\n",
    "        if a[i] in '+-*/' and a[i - 1] in '+-*/':\n",
    "            raise RuntimeError\n",
    "        if a[i] not in '+-*/()':\n",
    "            ans.append(a[i])\n",
    "        if a[i] in ')*/':\n",
    "            k.append(a[i])\n",
    "        if a[i] == '(':\n",
    "            o = len(k) - 1\n",
    "            while k and o >= 0 and k[o] != ')':\n",
    "                ans.append(k[o])\n",
    "                k.pop(o)\n",
    "                o -= 1\n",
    "            if o < 0:\n",
    "                raise RuntimeError\n",
    "            else:\n",
    "                k.pop(o)\n",
    "        if a[i] in '+-':\n",
    "            o = len(k) - 1\n",
    "            while k and o >= 0 and k[o] != ')':\n",
    "                if k[o] in '*/':\n",
    "                    ans.append(k[o])\n",
    "                    k.pop(o)\n",
    "                o -= 1\n",
    "            k.append(a[i])\n",
    "    ans += k[::-1]\n",
    "    return ' '.join(ans[::-1])\n",
    "\n",
    "\n",
    "print(inf_to_pref('( 2 - 3 ) * ( 12 - 10 ) + 4 / 2'))"
   ]
  },
  {
   "cell_type": "code",
   "execution_count": 2,
   "id": "62c404ba-7113-414c-b0a2-34d00509dfd5",
   "metadata": {},
   "outputs": [
    {
     "name": "stdout",
     "output_type": "stream",
     "text": [
      "2 3 - 12 10 - * 4 2 / +\n"
     ]
    }
   ],
   "source": [
    "def inf_to_postf(s):\n",
    "    a = s.split()\n",
    "    k = []\n",
    "    ans = []\n",
    "    for i in range(len(a)):\n",
    "        if a[i] not in '+-*/()':\n",
    "            ans.append(a[i])\n",
    "        if a[i] in ')':\n",
    "            o = len(k) - 1\n",
    "            while k and o >= 0 and k[o] != '(':\n",
    "                ans.append(k[o])\n",
    "                k.pop(o)\n",
    "                o -= 1\n",
    "            if o < 0:\n",
    "                raise RuntimeError\n",
    "            else:\n",
    "                k.pop(o)\n",
    "        if a[i] == '(':\n",
    "            k.append(a[i])\n",
    "        if a[i] in '+-':\n",
    "            o = len(k) - 1\n",
    "            while k and o >= 0 and k[o] != '(':\n",
    "                if k[o] in '*/+-':\n",
    "                    ans.append(k[o])\n",
    "                    k.pop(o)\n",
    "                o -= 1\n",
    "            k.append(a[i])\n",
    "        if a[i] in '*/':\n",
    "            o = len(k) - 1\n",
    "            while k and o >= 0 and k[o] != '(':\n",
    "                if k[o] in '*/':\n",
    "                    ans += k[o]\n",
    "                    k.pop(o)\n",
    "                o -= 1\n",
    "            k.append(a[i])\n",
    "    ans += k[::-1]\n",
    "    if '(' in ans:\n",
    "        raise e\n",
    "    return ' '.join(ans)\n",
    "\n",
    "\n",
    "print(inf_to_postf('( 2 - 3 ) * ( 12 - 10 ) + 4 / 2'))"
   ]
  },
  {
   "cell_type": "markdown",
   "id": "68a34b40-6c13-4de9-a502-31388aef6531",
   "metadata": {},
   "source": [
    "# Первый номер"
   ]
  },
  {
   "cell_type": "code",
   "execution_count": 6,
   "id": "fafa9418-753b-4630-9c5a-7a987e6ad21a",
   "metadata": {},
   "outputs": [
    {
     "name": "stdout",
     "output_type": "stream",
     "text": [
      "префиксная: + * - 2 3 - 12 10 / 4 2, постфиксная: 2 3 - 12 10 - * 4 2 / +\n"
     ]
    }
   ],
   "source": [
    "def pref_i_postf(s):\n",
    "    return f'префиксная: {inf_to_pref(s)}, постфиксная: {inf_to_postf(s)}'\n",
    "\n",
    "\n",
    "print(pref_i_postf('( 2 - 3 ) * ( 12 - 10 ) + 4 / 2'))"
   ]
  },
  {
   "cell_type": "markdown",
   "id": "f93031eb-61f2-481f-a907-dd9dbc904c50",
   "metadata": {},
   "source": [
    "# Второй номер"
   ]
  },
  {
   "cell_type": "code",
   "execution_count": 7,
   "id": "cfd796f2-599b-4357-98ae-0343b3c978fe",
   "metadata": {},
   "outputs": [
    {
     "name": "stdout",
     "output_type": "stream",
     "text": [
      "2.0\n"
     ]
    }
   ],
   "source": [
    "def stack_calc(s):\n",
    "    a = s.split()\n",
    "    st = []\n",
    "    for i in range(len(a)):\n",
    "        if a[i] not in '+-/*':\n",
    "            st.append(float(a[i]))\n",
    "        elif a[i] == '+':\n",
    "            st.append(st.pop() + st.pop())\n",
    "        elif a[i] == '-':\n",
    "            st.append((-1) * st.pop() + st.pop())\n",
    "        elif a[i] == '*':\n",
    "            st.append(st.pop() * st.pop())\n",
    "        elif a[i] == '/':\n",
    "            st.append(st.pop() ** (-1) * st.pop())\n",
    "    if len(st) != 1 or not isinstance(st[0], float):\n",
    "        raise RuntimeError\n",
    "    return st.pop()\n",
    "\n",
    "\n",
    "print(stack_calc('2 3 - 12 10 - * 4 1 / +'))"
   ]
  },
  {
   "cell_type": "markdown",
   "id": "d5a7f5a6-2383-4711-a251-eae0eb9a71d7",
   "metadata": {},
   "source": [
    "# Третий номер"
   ]
  },
  {
   "cell_type": "code",
   "execution_count": 8,
   "id": "644727e0-a602-4f01-8eb8-b35c0f9007d1",
   "metadata": {},
   "outputs": [
    {
     "name": "stdout",
     "output_type": "stream",
     "text": [
      "2 3 - 12 10 - * 4 2 / +\n"
     ]
    }
   ],
   "source": [
    "print(inf_to_postf('( 2 - 3 ) * ( 12 - 10 ) + 4 / 2'))"
   ]
  },
  {
   "cell_type": "markdown",
   "id": "132cc7b2-c960-424d-b32f-92b77124c20a",
   "metadata": {},
   "source": [
    "# Четвёртый номер"
   ]
  },
  {
   "cell_type": "code",
   "execution_count": 9,
   "id": "eaadfa21-80a0-4453-a4fa-a54efc210cfb",
   "metadata": {},
   "outputs": [],
   "source": [
    "class Box:\n",
    "    def __init__ (self,cat = None):\n",
    "        self.cat = cat\n",
    "        self.nextcat = None\n",
    "        self.previouscat = None\n",
    "\n",
    "class DoubleLinkedList:\n",
    "    def __init__(self):\n",
    "        self.head = None\n",
    "        self.end = None\n",
    "\n",
    "    def __insert__(self, index, value):\n",
    "        newbox = Box(value)\n",
    "        if self.head is None:\n",
    "            self.head = newbox\n",
    "            self.end = newbox\n",
    "            \n",
    "        if index == 0:\n",
    "            newbox.nextcat = self.head\n",
    "            self.head.previouscat = newbox\n",
    "            self.head = newbox\n",
    "            \n",
    "        elif index == len(self) - 1:\n",
    "            newbox.previouscat = self.end\n",
    "            self.end.nextcat = newbox\n",
    "            self.end = newbox\n",
    "        elif len(self) - 1 > index > 0: \n",
    "            current = self.head\n",
    "            for i in range(index - 1):\n",
    "                current = current.nextcat\n",
    "        else:\n",
    "            raise IndexError\n",
    "                \n",
    "            newbox.nextcat = current.nextcat\n",
    "            newbox.previouscat = current\n",
    "            current.nextcat.previouscat = newbox\n",
    "            current.nextcat = newbox\n",
    "\n",
    "    def pop(self, index=len(self) - 1):\n",
    "        if self.head is None:\n",
    "            raise IndexError\n",
    "            \n",
    "        if index < 0 or index >= len(self):\n",
    "            raise IndexError\n",
    "            \n",
    "        current = self.head # удаляемый\n",
    "        for i in range(index):\n",
    "            current = current.nextcat\n",
    "            \n",
    "        value = current.cat\n",
    "        \n",
    "        if current == self.head and current == self.end:\n",
    "            self.head = None\n",
    "            self.end = None\n",
    "        elif current == self.head:\n",
    "            self.head = current.nextcat\n",
    "            self.head.previouscat = None\n",
    "        elif current == self.end:\n",
    "            self.end = current.previouscat\n",
    "            self.end.nextcat = None\n",
    "        else:\n",
    "            current.previouscat.nextcat = current.nextcat\n",
    "            current.nextcat.previouscat = current.previouscat\n",
    "            \n",
    "        return value\n",
    "\n",
    "    def __len__(self):\n",
    "        c = 0\n",
    "        current = self.head\n",
    "        while current:\n",
    "            c += 1\n",
    "            current = current.nextcat\n",
    "        return c"
   ]
  },
  {
   "cell_type": "markdown",
   "id": "58aa5d14-eca3-4aca-a343-8553560f1883",
   "metadata": {},
   "source": [
    "ну да я \"вдохновлялся\" данной статьёй на хабре https://habr.com/ru/companies/otus/articles/849482"
   ]
  },
  {
   "cell_type": "code",
   "execution_count": null,
   "id": "752dbade-de7b-4e44-bb61-d08ad6cf4df8",
   "metadata": {},
   "outputs": [],
   "source": []
  }
 ],
 "metadata": {
  "kernelspec": {
   "display_name": "Python 3 (ipykernel)",
   "language": "python",
   "name": "python3"
  },
  "language_info": {
   "codemirror_mode": {
    "name": "ipython",
    "version": 3
   },
   "file_extension": ".py",
   "mimetype": "text/x-python",
   "name": "python",
   "nbconvert_exporter": "python",
   "pygments_lexer": "ipython3",
   "version": "3.13.5"
  }
 },
 "nbformat": 4,
 "nbformat_minor": 5
}
