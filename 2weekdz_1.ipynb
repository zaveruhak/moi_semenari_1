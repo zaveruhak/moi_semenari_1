{
 "cells": [
  {
   "cell_type": "code",
   "execution_count": 20,
   "id": "977fa6d6-668b-40ce-82c5-8f3eb18a888a",
   "metadata": {},
   "outputs": [
    {
     "name": "stdin",
     "output_type": "stream",
     "text": [
      " 5 1 2 5 4\n"
     ]
    },
    {
     "name": "stdout",
     "output_type": "stream",
     "text": [
      "3\n"
     ]
    }
   ],
   "source": [
    "#1\n",
    "n = list(map(int, input().split()))\n",
    "k = n.pop(0)\n",
    "ans = 0\n",
    "for i in range(1, k+1):\n",
    "    ans ^= i\n",
    "for j in n:\n",
    "    ans ^= j\n",
    "print(ans)"
   ]
  },
  {
   "cell_type": "code",
   "execution_count": 32,
   "id": "5caeec5a-2863-441f-ba82-7194330d607e",
   "metadata": {},
   "outputs": [
    {
     "name": "stdin",
     "output_type": "stream",
     "text": [
      " 6 AB0TAEL0ANANAB0EVO0SANAN\n"
     ]
    },
    {
     "name": "stdout",
     "output_type": "stream",
     "text": [
      "EAT0BANANA0LOVE0BANANAS0\n"
     ]
    }
   ],
   "source": [
    "#2\n",
    "a, b = input().split()\n",
    "a = int(a)\n",
    "w = len(b) // a\n",
    "ans = ''\n",
    "for i in range(a):\n",
    "    ans += b[i * a:(i + 1) * a][::-1]\n",
    "print(ans)"
   ]
  },
  {
   "cell_type": "code",
   "execution_count": 41,
   "id": "2f49352c-9538-4a96-82ba-d67ee11a1ee8",
   "metadata": {},
   "outputs": [
    {
     "name": "stdin",
     "output_type": "stream",
     "text": [
      " AMA\n"
     ]
    },
    {
     "name": "stdout",
     "output_type": "stream",
     "text": [
      "AMA is a mirrored palindrome.\n"
     ]
    }
   ],
   "source": [
    "#3\n",
    "a = input()\n",
    "z = {'E': '3', 'J': 'L', 'S': '2', 'Z': '5', 'L': 'J', '2': 'S', '5': 'Z', '3': 'E', 'A': 'A', 'H': 'H', 'I': 'I', 'M': 'M', 'O': 'O', 'T': 'T', 'U': 'U', 'V': 'V', 'W': 'W', 'X': 'X', 'Y': 'Y', '1': '1', '8': '8'}\n",
    "d = 'AHIMOTUVWXY18'\n",
    "\n",
    "zer = True\n",
    "pal = True\n",
    "for i in range(len(a) // 2):\n",
    "    if a[i] != a[-1 * (i + 1)]:\n",
    "        pal = False\n",
    "    if a[i] != z.get(a[-1 * (i + 1)]):\n",
    "        zer = False\n",
    "\n",
    "\n",
    "if zer and len(a) % 2 != 0:\n",
    "    if a[len(a) // 2] not in d:\n",
    "           zer = False\n",
    "\n",
    "if zer and pal:\n",
    "    print(\"{t} is a mirrored palindrome.\".format(t=a))\n",
    "elif zer:\n",
    "    print(\"{t} is a mirrored string.\".format(t=a))  \n",
    "elif pal:\n",
    "    print(\"{t} is a regular palindrome.\".format(t=a))\n",
    "else:\n",
    "    print(\"{t} is not a palindrome.\".format(t=a))"
   ]
  },
  {
   "cell_type": "code",
   "execution_count": 53,
   "id": "e160f750-af55-4cc1-9e28-ae29df9a8d3c",
   "metadata": {},
   "outputs": [
    {
     "name": "stdin",
     "output_type": "stream",
     "text": [
      " 1 2 3 4 5\n"
     ]
    },
    {
     "name": "stdout",
     "output_type": "stream",
     "text": [
      "2 1 4 3 5\n"
     ]
    }
   ],
   "source": [
    "#4\n",
    "t = input().split()\n",
    "for i in range(0, len(t) - 1, 2):\n",
    "    t[i], t[i+1] = t[i+1], t[i]\n",
    "print(*t)"
   ]
  },
  {
   "cell_type": "code",
   "execution_count": 10,
   "id": "3bc7cad1-44bf-4ac9-a7c1-e8d54fc7a30c",
   "metadata": {},
   "outputs": [
    {
     "name": "stdin",
     "output_type": "stream",
     "text": [
      " 1 2 3 4 5\n"
     ]
    },
    {
     "name": "stdout",
     "output_type": "stream",
     "text": [
      "[5, 1, 2, 3, 4]\n"
     ]
    }
   ],
   "source": [
    "#5\n",
    "t = list(map(int, input().split()))\n",
    "print([t[-1]] + t[:-1])"
   ]
  },
  {
   "cell_type": "code",
   "execution_count": 1,
   "id": "1948b198-dd37-4b31-88cf-baefa3baba1f",
   "metadata": {},
   "outputs": [
    {
     "name": "stdin",
     "output_type": "stream",
     "text": [
      " 1 2 2 3 3 3\n"
     ]
    },
    {
     "name": "stdout",
     "output_type": "stream",
     "text": [
      "1\n"
     ]
    }
   ],
   "source": [
    "#6\n",
    "a = input().split()\n",
    "for i in a:\n",
    "    if a.count(i) == 1:\n",
    "        print(i)"
   ]
  },
  {
   "cell_type": "code",
   "execution_count": 2,
   "id": "57408122-ce47-4712-b1ef-535df9703fc3",
   "metadata": {},
   "outputs": [
    {
     "name": "stdin",
     "output_type": "stream",
     "text": [
      " 1 2 3 2 3 3\n"
     ]
    },
    {
     "name": "stdout",
     "output_type": "stream",
     "text": [
      "3\n"
     ]
    }
   ],
   "source": [
    "#7\n",
    "b = input().split()\n",
    "m = 0\n",
    "ans = ''\n",
    "for i in b:\n",
    "    c = b.count(i)\n",
    "    if c > m:\n",
    "        m = c\n",
    "        ans = i\n",
    "print(ans)"
   ]
  },
  {
   "cell_type": "code",
   "execution_count": 56,
   "id": "c29af2c8-6ad1-454d-9866-6d799c0daef6",
   "metadata": {},
   "outputs": [
    {
     "name": "stdin",
     "output_type": "stream",
     "text": [
      " 5\n",
      " 3 1 2 5 4\n"
     ]
    },
    {
     "name": "stdout",
     "output_type": "stream",
     "text": [
      "3\n"
     ]
    }
   ],
   "source": [
    "#8\n",
    "def a(x, o):\n",
    "    return sum([1 for i in o if x > i])\n",
    "\n",
    "\n",
    "n = int(input())\n",
    "s = list(map(int, input().split()))\n",
    "z = n // 2\n",
    "for i in s:\n",
    "    if n // 2 == a(i, s):\n",
    "        print(i)\n",
    "        break"
   ]
  },
  {
   "cell_type": "code",
   "execution_count": 36,
   "id": "4a6e228d-a909-497e-9dd8-bf78561e2975",
   "metadata": {},
   "outputs": [
    {
     "name": "stdout",
     "output_type": "stream",
     "text": [
      "2\n"
     ]
    }
   ],
   "source": [
    "# 9\n",
    "s = 'Hello... World?!'\n",
    "z = '.?!'\n",
    "ans = 0\n",
    "# with open('input.txt') as f:\n",
    "#     s = f.readline()\n",
    "for i in range(len(s) - 1):\n",
    "    if s[i] not in z and s[i+1] in z:\n",
    "        ans += 1\n",
    "print(ans)"
   ]
  },
  {
   "cell_type": "code",
   "execution_count": 50,
   "id": "e432e1ca-d445-4650-98f4-f26db84430be",
   "metadata": {},
   "outputs": [
    {
     "name": "stdout",
     "output_type": "stream",
     "text": [
      "аортаса пасаэльяса деселиситсяся расадисиоактисивносост\n"
     ]
    }
   ],
   "source": [
    "# 10\n",
    "s = 'аорта паэлья делится радиоактивностm'\n",
    "z = 'еаояиёюэы'\n",
    "# with open('input.txt') as f:\n",
    "#     s = f.readline()\n",
    "ans = s[0]\n",
    "e = {'я': 'а', 'е': 'э', 'ю': 'у', 'ё': 'о'}\n",
    "for i in range(1, len(s)):\n",
    "    if s[i] in z:\n",
    "        if s[i-1] in 'ьъ ' and s[i] in e.keys():\n",
    "            ans += s[i] + 'с' + e.get(s[i])\n",
    "        elif s[i-1] not in (z + ' '):\n",
    "            ans += s[i] + 'с' + s[i]\n",
    "        else:\n",
    "            ans += s[i]\n",
    "    else:\n",
    "        ans += s[i]\n",
    "print(ans)"
   ]
  },
  {
   "cell_type": "code",
   "execution_count": 65,
   "id": "03420160-3772-40dc-bb9e-6d95f151682d",
   "metadata": {},
   "outputs": [
    {
     "name": "stdout",
     "output_type": "stream",
     "text": [
      "Сами велели. Вахмистр за то, с которой он, как будто отвечая односложно, и смеялся, выражение лиц Петербурга, графиня чем-то засмеялась, сливались в Тильзит, чувствовал, что ей головой и, к нему навстречу. Люди полков, ожидая смотра перешло в свое гостеприимство. Поздно вечером четыре года все более утонченной улыбкой. – Сколько страданий, сколько хорошеньких девушек. 385 Нет, убить и не имеющем прямого ответа. Имя, положение детского жениха и он не чувствую течение.] Жюли и его всю линию войск пространство, отделяющее барьеры, как и поднятый арапник в ложе графини Ростовой, – подруга мужчины.] – сказала решительная минута! Дошло до тех пор он приехал; она\n"
     ]
    }
   ],
   "source": [
    "# 11\n",
    "import numpy as np\n",
    "\n",
    "\n",
    "text = open('C:/Users/kiril/moi_semenari_1/warandpeace.txt', encoding='utf8').read()\n",
    "corpus = text.split()\n",
    "\n",
    "\n",
    "def make_pairs(corpus):\n",
    "    for i in range(len(corpus)-1):\n",
    "        yield (corpus[i], corpus[i+1])\n",
    "\n",
    "\n",
    "pairs = make_pairs(corpus)\n",
    "word_dict = {}\n",
    "for word_1, word_2 in pairs:\n",
    "    if word_1 in word_dict.keys():\n",
    "        word_dict[word_1].append(word_2)\n",
    "    else:\n",
    "        word_dict[word_1] = [word_2]\n",
    "\n",
    "first_word = np.random.choice(corpus) \n",
    "while first_word.islower():\n",
    "    first_word = np.random.choice(corpus)\n",
    "chain = [first_word]\n",
    "\n",
    "n_words = 100\n",
    "for i in range(n_words):\n",
    "    chain.append(np.random.choice(word_dict[chain[-1]]))\n",
    "print(' '.join(chain))"
   ]
  },
  {
   "cell_type": "code",
   "execution_count": null,
   "id": "556e9a87-f19e-45b3-a077-c09bed61bdf6",
   "metadata": {},
   "outputs": [],
   "source": []
  }
 ],
 "metadata": {
  "kernelspec": {
   "display_name": "Python 3 (ipykernel)",
   "language": "python",
   "name": "python3"
  },
  "language_info": {
   "codemirror_mode": {
    "name": "ipython",
    "version": 3
   },
   "file_extension": ".py",
   "mimetype": "text/x-python",
   "name": "python",
   "nbconvert_exporter": "python",
   "pygments_lexer": "ipython3",
   "version": "3.13.5"
  }
 },
 "nbformat": 4,
 "nbformat_minor": 5
}
