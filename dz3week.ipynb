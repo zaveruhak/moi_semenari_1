{
 "cells": [
  {
   "cell_type": "code",
   "execution_count": 5,
   "id": "ec2ad997-23d2-4f3a-86c2-f99f2990f32c",
   "metadata": {},
   "outputs": [
    {
     "name": "stdin",
     "output_type": "stream",
     "text": [
      " 6\n"
     ]
    },
    {
     "name": "stdout",
     "output_type": "stream",
     "text": [
      "8\n"
     ]
    }
   ],
   "source": [
    "#1\n",
    "def fib(z):\n",
    "    if z == 1 or z == 2:\n",
    "        return 1\n",
    "    return fib(z - 1) + fib(z - 2)\n",
    "\n",
    "\n",
    "print(fib(int(input())))"
   ]
  },
  {
   "cell_type": "code",
   "execution_count": 37,
   "id": "059b9fdd-92b3-440f-b46c-ef213f3714c7",
   "metadata": {},
   "outputs": [
    {
     "name": "stdout",
     "output_type": "stream",
     "text": [
      "[2, 2, 2, 3, 5]\n"
     ]
    }
   ],
   "source": [
    "#2\n",
    "def p(x):\n",
    "    return(all([x % i != 0 for i in range(2, int(x ** 0.5) + 1)]))\n",
    "\n",
    "\n",
    "def raz(a):\n",
    "    if a == 1:\n",
    "        return []\n",
    "    for i in range(2, int(a ** 0.5) + 1):\n",
    "        if a % i == 0 and p(i):\n",
    "            return [i] + raz(a // i)\n",
    "    return [a]\n",
    "\n",
    "\n",
    "print(raz(120))"
   ]
  },
  {
   "cell_type": "code",
   "execution_count": 60,
   "id": "cff444c2-52da-420b-bc80-89bf3900b39f",
   "metadata": {},
   "outputs": [
    {
     "name": "stdout",
     "output_type": "stream",
     "text": [
      "(-1, 2, 1)\n"
     ]
    }
   ],
   "source": [
    "#3\n",
    "def func(a, b):\n",
    "    if a == 0:\n",
    "        return (0, 1, b)\n",
    "    x, y, d = func(b % a, a)\n",
    "    return y - (b // a) * x, x, d\n",
    "\n",
    "print(func(5, 3))"
   ]
  },
  {
   "cell_type": "code",
   "execution_count": 46,
   "id": "96f1d7cd-99e3-403a-9a61-6d66d42a8ab7",
   "metadata": {},
   "outputs": [
    {
     "name": "stdout",
     "output_type": "stream",
     "text": [
      "c\n",
      "cc\n",
      "ccc\n",
      "ccc\n",
      "cc\n",
      "c\n"
     ]
    }
   ],
   "source": [
    "#4\n",
    "def tre(size, symb):\n",
    "    if size == 1:\n",
    "        print(symb * ((n - size) // 2 + 1))\n",
    "        return\n",
    "    if size == 0:\n",
    "        return\n",
    "    print(symb * ((n - size) // 2 + 1))\n",
    "    tre(size - 2, symb)\n",
    "    print(symb * ((n - size) // 2 + 1))\n",
    "\n",
    "n = 6\n",
    "s = 'c'\n",
    "tre(n, s)"
   ]
  },
  {
   "cell_type": "code",
   "execution_count": 2,
   "id": "c89281a9-cad2-40b0-bc80-1b5a01e85145",
   "metadata": {},
   "outputs": [],
   "source": [
    "import numpy as np"
   ]
  },
  {
   "cell_type": "code",
   "execution_count": 71,
   "id": "6074d80b-ea0d-47eb-8624-94dbcec510ea",
   "metadata": {},
   "outputs": [
    {
     "name": "stdin",
     "output_type": "stream",
     "text": [
      " 6 7\n"
     ]
    },
    {
     "name": "stdout",
     "output_type": "stream",
     "text": [
      "[[ 1.  2.  3.  4.  5.  6.  7.]\n",
      " [22. 23. 24. 25. 26. 27.  8.]\n",
      " [21. 36. 37. 38. 39. 28.  9.]\n",
      " [20. 35. 42. 41. 40. 29. 10.]\n",
      " [19. 34. 33. 32. 31. 30. 11.]\n",
      " [18. 17. 16. 15. 14. 13. 12.]]\n"
     ]
    }
   ],
   "source": [
    "#5\n",
    "t, m = map(int, input().split())\n",
    "a = np.zeros((t, m))\n",
    "z = 1\n",
    "n = 0\n",
    "while n <= min(t, m) // 2:\n",
    "    if z <= t * m:\n",
    "         for i in range(n, m - n):\n",
    "            a[n][i] = z\n",
    "            z += 1\n",
    "\n",
    "    if z <= t * m:\n",
    "        for i in range(n + 1, t - n):\n",
    "            a[i][m - n - 1] = z\n",
    "            z += 1\n",
    "    \n",
    "    if z <= t * m and t - n - 1 > n:\n",
    "        for i in range(m - n - 2, n - 1, -1):\n",
    "            a[t - n - 1][i] = z\n",
    "            z += 1\n",
    "\n",
    "    if z <= t * m and m - n - 1 > n:\n",
    "        for i in range(t - n - 2, n, -1):\n",
    "            a[i][n] = z\n",
    "            z += 1\n",
    "    \n",
    "    n += 1\n",
    "\n",
    "print(a)"
   ]
  },
  {
   "cell_type": "code",
   "execution_count": 3,
   "id": "becbdc44-d989-4ddb-94c1-8d6b28e36d16",
   "metadata": {},
   "outputs": [
    {
     "name": "stdout",
     "output_type": "stream",
     "text": [
      "1.0769230769230778 3.3076923076923066\n"
     ]
    }
   ],
   "source": [
    "#6\n",
    "def least_squares(x, y):\n",
    "    k = (np.mean(x*y) - np.mean(x) * np.mean(y)) / (np.mean(x*x) - np.mean(x) ** 2)\n",
    "    b = np.mean(y) - k * np.mean(x)\n",
    "    return k, b\n",
    "\n",
    "\n",
    "x = np.array([1, 2, 1, 2, 3, 1, 1])\n",
    "y = np.array([5, 5, 6, 5, 7, 5, 2])\n",
    "print(*least_squares(x, y))"
   ]
  },
  {
   "cell_type": "code",
   "execution_count": 18,
   "id": "978e1f6d-40ff-4520-b243-889364f7098b",
   "metadata": {},
   "outputs": [
    {
     "name": "stdout",
     "output_type": "stream",
     "text": [
      "6.0 2.0\n"
     ]
    }
   ],
   "source": [
    "#7\n",
    "#n, m = map(int, input().split())\n",
    "#a = [list(map(float, input().split())) for i in range(n)]\n",
    "a = [[1, -1, 4], [1, 2, 10]]\n",
    "b = []\n",
    "for i in a:\n",
    "    b.append(i.pop(-1))\n",
    "A = np.array(a)\n",
    "B = np.array(b)\n",
    "x = np.linalg.solve(A, B)\n",
    "print(*x)"
   ]
  },
  {
   "cell_type": "code",
   "execution_count": 6,
   "id": "1fa2948f-612e-40ea-9a11-13f41ebdfc7d",
   "metadata": {},
   "outputs": [
    {
     "name": "stdout",
     "output_type": "stream",
     "text": [
      "2.0093656407621148 2.932270859808277\n"
     ]
    }
   ],
   "source": [
    "#8\n",
    "import matplotlib.pyplot as plt\n",
    "import random\n",
    "\n",
    "\n",
    "sigma = 0.7\n",
    "x = np.arange(20)\n",
    "k = 2\n",
    "b = 3\n",
    "y = k * x + b\n",
    "\n",
    "yg = y + np.array([random.gauss(0, sigma) for i in range(20)])\n",
    "\n",
    "k1, b1 = least_squares(x, yg)\n",
    "print(k1, b1)"
   ]
  },
  {
   "cell_type": "code",
   "execution_count": null,
   "id": "b7bbb0cb-93d9-4454-9109-627722a11713",
   "metadata": {},
   "outputs": [],
   "source": []
  }
 ],
 "metadata": {
  "kernelspec": {
   "display_name": "Python 3 (ipykernel)",
   "language": "python",
   "name": "python3"
  },
  "language_info": {
   "codemirror_mode": {
    "name": "ipython",
    "version": 3
   },
   "file_extension": ".py",
   "mimetype": "text/x-python",
   "name": "python",
   "nbconvert_exporter": "python",
   "pygments_lexer": "ipython3",
   "version": "3.13.5"
  }
 },
 "nbformat": 4,
 "nbformat_minor": 5
}
