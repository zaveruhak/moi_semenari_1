{
 "cells": [
  {
   "cell_type": "code",
   "execution_count": 1,
   "id": "b944e6f8-40e6-427e-a952-dd73d0e7fde2",
   "metadata": {},
   "outputs": [
    {
     "name": "stdin",
     "output_type": "stream",
     "text": [
      " 2 5\n"
     ]
    },
    {
     "name": "stdout",
     "output_type": "stream",
     "text": [
      "7.0\n",
      "-3.0\n",
      "10.0\n"
     ]
    }
   ],
   "source": [
    "a, b = map(float, input().split())\n",
    "print(a + b)\n",
    "print(a - b)\n",
    "print(a * b)\n"
   ]
  },
  {
   "cell_type": "code",
   "execution_count": 2,
   "id": "6c978835-d8cc-4840-b1b6-e85c8e88efa3",
   "metadata": {
    "scrolled": true
   },
   "outputs": [
    {
     "name": "stdout",
     "output_type": "stream",
     "text": [
      "2\n"
     ]
    }
   ],
   "source": [
    "a = 52\n",
    "print(str(a)[-1])"
   ]
  },
  {
   "cell_type": "code",
   "execution_count": 5,
   "id": "dad6bdce-d03a-444d-8831-3ba932530a0d",
   "metadata": {},
   "outputs": [
    {
     "name": "stdin",
     "output_type": "stream",
     "text": [
      " 3 4\n"
     ]
    },
    {
     "name": "stdout",
     "output_type": "stream",
     "text": [
      "3.4641016151377544\n"
     ]
    }
   ],
   "source": [
    "a = list(map(float, input().split()))\n",
    "s = 1\n",
    "for i in a:\n",
    "    s *= i\n",
    "ans = s ** (1 / len(a))\n",
    "print(ans)"
   ]
  },
  {
   "cell_type": "code",
   "execution_count": null,
   "id": "b725187b-a054-4867-9daf-3705e1d54fe3",
   "metadata": {},
   "outputs": [],
   "source": [
    "with open('input.txt') as f:\n",
    "    s = f.readlines()\n",
    "    a, b = map(float, s[0].split())\n",
    "    c = str(s[1])\n",
    "    ans = 0\n",
    "    if c == '+':\n",
    "        ans = a + b\n",
    "    if c == '-':\n",
    "        ans = a - b\n",
    "    if c == '*':\n",
    "        ans = a * b\n",
    "    e = open('output.txt', 'w')\n",
    "    e.write(str(ans))\n",
    "    e.close()\n"
   ]
  },
  {
   "cell_type": "code",
   "execution_count": null,
   "id": "58d33e8c-9f4f-4a93-8f13-1e581b914315",
   "metadata": {},
   "outputs": [],
   "source": [
    "N, b, c = '52', 6, 3\n",
    "n = int(N, b)\n",
    "def p(x, s):\n",
    "    if x < s:\n",
    "        return str(x)\n",
    "    return p(x // s, s) +  str(x % s)\n",
    "\n",
    "print(p(n, c))"
   ]
  },
  {
   "cell_type": "code",
   "execution_count": null,
   "id": "d3975a0d-888c-4047-933c-de072e84ebcd",
   "metadata": {},
   "outputs": [],
   "source": [
    "def p(x, r):\n",
    "    if x < r:\n",
    "        return str(x)\n",
    "    return p(x // r, r) +  str(x % r)\n",
    "\n",
    "\n",
    "with open('input.txt') as f:\n",
    "    s = f.readlines()\n",
    "    z = str(s[1][0])\n",
    "    c = int(s[2])\n",
    "    a, b = map(lambda x: int(x, c), s[0].split())\n",
    "    ans = 0\n",
    "    if z == '+':\n",
    "        ans = a + b\n",
    "    if z == '-':\n",
    "        ans = a - b\n",
    "    if z == '*':\n",
    "        ans = a * b\n",
    "    e = open('output.txt', 'w')\n",
    "    e.write(p(ans, c))\n",
    "    e.close()"
   ]
  }
 ],
 "metadata": {
  "kernelspec": {
   "display_name": "Python 3 (ipykernel)",
   "language": "python",
   "name": "python3"
  },
  "language_info": {
   "codemirror_mode": {
    "name": "ipython",
    "version": 3
   },
   "file_extension": ".py",
   "mimetype": "text/x-python",
   "name": "python",
   "nbconvert_exporter": "python",
   "pygments_lexer": "ipython3",
   "version": "3.13.5"
  }
 },
 "nbformat": 4,
 "nbformat_minor": 5
}
