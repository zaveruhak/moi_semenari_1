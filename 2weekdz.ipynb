{
 "cells": [
  {
   "cell_type": "code",
   "execution_count": 20,
   "id": "977fa6d6-668b-40ce-82c5-8f3eb18a888a",
   "metadata": {},
   "outputs": [
    {
     "name": "stdin",
     "output_type": "stream",
     "text": [
      " 5 1 2 5 4\n"
     ]
    },
    {
     "name": "stdout",
     "output_type": "stream",
     "text": [
      "3\n"
     ]
    }
   ],
   "source": [
    "#1\n",
    "n = list(map(int, input().split()))\n",
    "k = n.pop(0)\n",
    "ans = 0\n",
    "for i in range(1, k+1):\n",
    "    ans ^= i\n",
    "for j in n:\n",
    "    ans ^= j\n",
    "print(ans)"
   ]
  },
  {
   "cell_type": "code",
   "execution_count": null,
   "id": "5caeec5a-2863-441f-ba82-7194330d607e",
   "metadata": {},
   "outputs": [],
   "source": [
    "#2"
   ]
  },
  {
   "cell_type": "code",
   "execution_count": null,
   "id": "2f49352c-9538-4a96-82ba-d67ee11a1ee8",
   "metadata": {},
   "outputs": [],
   "source": [
    "#3"
   ]
  },
  {
   "cell_type": "code",
   "execution_count": 18,
   "id": "e160f750-af55-4cc1-9e28-ae29df9a8d3c",
   "metadata": {},
   "outputs": [
    {
     "ename": "SyntaxError",
     "evalue": "iterable unpacking cannot be used in comprehension (302069132.py, line 4)",
     "output_type": "error",
     "traceback": [
      "  \u001b[36mCell\u001b[39m\u001b[36m \u001b[39m\u001b[32mIn[18]\u001b[39m\u001b[32m, line 4\u001b[39m\n\u001b[31m    \u001b[39m\u001b[31mprint([*j for j in r].append(u[-1])\u001b[39m\n           ^\n\u001b[31mSyntaxError\u001b[39m\u001b[31m:\u001b[39m iterable unpacking cannot be used in comprehension\n"
     ]
    }
   ],
   "source": [
    "#4\n",
    "u = list(map(int, input().split()))\n",
    "r = [(u[i+1], u[i]) for i in range(len(u) // 2 * 2) if i % 2 == 0]\n",
    "print([*j for j in r].append(u[-1])"
   ]
  },
  {
   "cell_type": "code",
   "execution_count": 10,
   "id": "3bc7cad1-44bf-4ac9-a7c1-e8d54fc7a30c",
   "metadata": {},
   "outputs": [
    {
     "name": "stdin",
     "output_type": "stream",
     "text": [
      " 1 2 3 4 5\n"
     ]
    },
    {
     "name": "stdout",
     "output_type": "stream",
     "text": [
      "[5, 1, 2, 3, 4]\n"
     ]
    }
   ],
   "source": [
    "#5\n",
    "t = list(map(int, input().split()))\n",
    "print([t[-1]] + t[:-1])"
   ]
  },
  {
   "cell_type": "code",
   "execution_count": 1,
   "id": "1948b198-dd37-4b31-88cf-baefa3baba1f",
   "metadata": {},
   "outputs": [
    {
     "name": "stdin",
     "output_type": "stream",
     "text": [
      " 1 2 2 3 3 3\n"
     ]
    },
    {
     "name": "stdout",
     "output_type": "stream",
     "text": [
      "1\n"
     ]
    }
   ],
   "source": [
    "#6\n",
    "a = input().split()\n",
    "for i in a:\n",
    "    if a.count(i) == 1:\n",
    "        print(i)"
   ]
  },
  {
   "cell_type": "code",
   "execution_count": 2,
   "id": "57408122-ce47-4712-b1ef-535df9703fc3",
   "metadata": {},
   "outputs": [
    {
     "name": "stdin",
     "output_type": "stream",
     "text": [
      " 1 2 3 2 3 3\n"
     ]
    },
    {
     "name": "stdout",
     "output_type": "stream",
     "text": [
      "3\n"
     ]
    }
   ],
   "source": [
    "#7\n",
    "b = input().split()\n",
    "m = 0\n",
    "ans = ''\n",
    "for i in b:\n",
    "    c = b.count(i)\n",
    "    if c > m:\n",
    "        m = c\n",
    "        ans = i\n",
    "print(ans)"
   ]
  },
  {
   "cell_type": "code",
   "execution_count": null,
   "id": "c29af2c8-6ad1-454d-9866-6d799c0daef6",
   "metadata": {},
   "outputs": [],
   "source": [
    "#8\n",
    "n = int(input())\n",
    "s = list(map(int, input().split()))\n"
   ]
  }
 ],
 "metadata": {
  "kernelspec": {
   "display_name": "Python 3 (ipykernel)",
   "language": "python",
   "name": "python3"
  },
  "language_info": {
   "codemirror_mode": {
    "name": "ipython",
    "version": 3
   },
   "file_extension": ".py",
   "mimetype": "text/x-python",
   "name": "python",
   "nbconvert_exporter": "python",
   "pygments_lexer": "ipython3",
   "version": "3.13.5"
  }
 },
 "nbformat": 4,
 "nbformat_minor": 5
}
